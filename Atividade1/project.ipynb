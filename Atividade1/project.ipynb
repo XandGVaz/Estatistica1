{
  "cells": [
    {
      "cell_type": "markdown",
      "id": "k8jM4CD5BhuS",
      "metadata": {
        "id": "k8jM4CD5BhuS"
      },
      "source": [
        "# Atividade 1"
      ]
    },
    {
      "cell_type": "code",
      "execution_count": null,
      "id": "f504cc07",
      "metadata": {
        "id": "f504cc07"
      },
      "outputs": [],
      "source": [
        "import matplotlib.pyplot as plt\n",
        "import pandas as pd\n",
        "import numpy as np\n",
        "import seaborn as sns"
      ]
    },
    {
      "cell_type": "code",
      "source": [
        "import kagglehub\n",
        "\n",
        "# Download latest version\n",
        "path = kagglehub.dataset_download(\"orvile/satellite-telemetry-data-anomaly-prediction\")\n",
        "\n",
        "print(\"Path to dataset files:\", path)"
      ],
      "metadata": {
        "id": "G8JMsUmZXA-W",
        "outputId": "d73858f6-ea06-420e-f281-818baefcf5e2",
        "colab": {
          "base_uri": "https://localhost:8080/"
        }
      },
      "id": "G8JMsUmZXA-W",
      "execution_count": 1,
      "outputs": [
        {
          "output_type": "stream",
          "name": "stdout",
          "text": [
            "Downloading from https://www.kaggle.com/api/v1/datasets/download/orvile/satellite-telemetry-data-anomaly-prediction?dataset_version_number=1...\n"
          ]
        },
        {
          "output_type": "stream",
          "name": "stderr",
          "text": [
            "100%|██████████| 1.99M/1.99M [00:00<00:00, 27.0MB/s]"
          ]
        },
        {
          "output_type": "stream",
          "name": "stdout",
          "text": [
            "Extracting files...\n"
          ]
        },
        {
          "output_type": "stream",
          "name": "stderr",
          "text": [
            "\n"
          ]
        },
        {
          "output_type": "stream",
          "name": "stdout",
          "text": [
            "Path to dataset files: /root/.cache/kagglehub/datasets/orvile/satellite-telemetry-data-anomaly-prediction/versions/1\n"
          ]
        }
      ]
    }
  ],
  "metadata": {
    "colab": {
      "provenance": []
    },
    "kernelspec": {
      "display_name": "Python 3",
      "language": "python",
      "name": "python3"
    },
    "language_info": {
      "codemirror_mode": {
        "name": "ipython",
        "version": 3
      },
      "file_extension": ".py",
      "mimetype": "text/x-python",
      "name": "python",
      "nbconvert_exporter": "python",
      "pygments_lexer": "ipython3",
      "version": "3.12.3"
    }
  },
  "nbformat": 4,
  "nbformat_minor": 5
}