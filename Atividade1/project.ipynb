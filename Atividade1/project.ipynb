{
  "cells": [
    {
      "cell_type": "markdown",
      "id": "k8jM4CD5BhuS",
      "metadata": {
        "id": "k8jM4CD5BhuS"
      },
      "source": [
        "# Atividade 1"
      ]
    },
    {
      "cell_type": "code",
      "execution_count": 1,
      "id": "f504cc07",
      "metadata": {},
      "outputs": [],
      "source": [
        "import matplotlib.pyplot as plt\n",
        "import pandas as pd\n",
        "import numpy as np\n",
        "import seaborn as sns"
      ]
    }
  ],
  "metadata": {
    "colab": {
      "provenance": []
    },
    "kernelspec": {
      "display_name": "Python 3",
      "language": "python",
      "name": "python3"
    },
    "language_info": {
      "codemirror_mode": {
        "name": "ipython",
        "version": 3
      },
      "file_extension": ".py",
      "mimetype": "text/x-python",
      "name": "python",
      "nbconvert_exporter": "python",
      "pygments_lexer": "ipython3",
      "version": "3.12.3"
    }
  },
  "nbformat": 4,
  "nbformat_minor": 5
}
