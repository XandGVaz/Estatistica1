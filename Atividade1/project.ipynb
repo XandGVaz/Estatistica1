{
  "cells": [
    {
      "cell_type": "markdown",
      "id": "k8jM4CD5BhuS",
      "metadata": {
        "id": "k8jM4CD5BhuS"
      },
      "source": [
        "# Atividade 1"
      ]
    },
    {
      "cell_type": "code",
      "execution_count": null,
      "id": "f504cc07",
      "metadata": {},
      "outputs": [],
      "source": []
    }
  ],
  "metadata": {
    "colab": {
      "provenance": []
    },
    "kernelspec": {
      "display_name": "Python 3",
      "language": "python",
      "name": "python3"
    },
    "language_info": {
      "name": "python",
      "version": "3.12.3"
    }
  },
  "nbformat": 4,
  "nbformat_minor": 5
}
