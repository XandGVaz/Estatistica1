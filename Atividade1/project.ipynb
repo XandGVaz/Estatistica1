{
  "cells": [
    {
      "cell_type": "code",
      "execution_count": null,
      "id": "6f62b849",
      "metadata": {
        "vscode": {
          "languageId": "plaintext"
        },
        "id": "6f62b849"
      },
      "outputs": [],
      "source": []
    },
    {
      "cell_type": "markdown",
      "source": [
        "# Atividade 1"
      ],
      "metadata": {
        "id": "k8jM4CD5BhuS"
      },
      "id": "k8jM4CD5BhuS"
    }
  ],
  "metadata": {
    "language_info": {
      "name": "python"
    },
    "colab": {
      "provenance": []
    }
  },
  "nbformat": 4,
  "nbformat_minor": 5
}